{
  "nbformat": 4,
  "nbformat_minor": 0,
  "metadata": {
    "colab": {
      "name": "Grupo 1 - mlp-classifier.ipynb",
      "provenance": [],
      "collapsed_sections": [],
      "include_colab_link": true
    },
    "kernelspec": {
      "display_name": "Python 3",
      "name": "python3"
    }
  },
  "cells": [
    {
      "cell_type": "markdown",
      "metadata": {
        "id": "view-in-github",
        "colab_type": "text"
      },
      "source": [
        "<a href=\"https://colab.research.google.com/github/LorenaMendesB/Resumo-Expandido-Aprendizagem-de-M-quina/blob/main/Grupo_1_mlp_classifier.ipynb\" target=\"_parent\"><img src=\"https://colab.research.google.com/assets/colab-badge.svg\" alt=\"Open In Colab\"/></a>"
      ]
    },
    {
      "cell_type": "markdown",
      "metadata": {
        "id": "8ovE0Q9AvsUF"
      },
      "source": [
        "## <p align = center>  **Aprendizagem de Máquina - Inteligência Artificial** <p  align = left>  \n",
        "## <p align = center>  **MACHINE LEARNING APLICADA NA ANÁLISE DE POSSÍVEIS CASOS DE ATAQUE CARDÍACO** <p  align = left>  \n",
        "\n",
        "<p align = center>  Alunos </p>\n",
        "\n",
        "---\n",
        "\n",
        " <p> <b>Nome:</b> Gustavo da Silva Dias. </p>\n",
        "<p> <b>Nome:</b> João Paulo da Silva Barros. </p>\n",
        "<p> <b>Nome:</b> Lorena Mendes Barbosa. </p>\n",
        "<p> <b>Nome:</b> Osvaldo Bispo de Andrade Neto. </p>\n",
        "\n",
        "--- \n"
      ]
    },
    {
      "cell_type": "markdown",
      "metadata": {
        "id": "PlvjwbJRQ2Gc"
      },
      "source": [
        "# **Multilayer Perceptron**\n",
        ">As redes neurais artificiais (RNAs) são sistemas computacionais compostos por vários elementos (neurônios) que se interrelacionam de forma conexa, inspirados no funcionamento de neurônios biológicos. Dentre as arquiteturas mais populares de RNAs, destacam-se as redes Multilayer Perceptron (MLP), as quais são aplicadas com sucesso em uma grande variedade de problemas de processamento de informação, incluindo classificação, aproximação de funções e previsão de séries temporais.\n",
        "\n",
        ">O presente notebook colab, escrito por Alison Zille Lopes, pretende introduzir o uso de redes MLP em problemas de classificação. A codificação foi inteiramente baseada em {1}, logo, emprega a biblioteca de aprendizagem de máquina scikit learn {2}.\n",
        "\n",
        "---\n",
        "\n",
        "{1} KRISTIAN, Y. Machine Learning in 30 minutes with Python and Google Colab. 2019. Disponível em: https://medium.com/@yosik81/machine-learning-in-30-minutes-with-python-and-google-colab-6e6dfb77f5e1. Acesso em: 2 jan 2021.\n",
        "\n",
        "{2} SCIKIT-LEARN. scikit-learn: Machine Learning in Python. Disponível em: https://scikit-learn.org/stable/index.html. Acesso em: 2 jan 2021.\n"
      ]
    },
    {
      "cell_type": "markdown",
      "metadata": {
        "id": "LeruJRrRRx4E"
      },
      "source": [
        "# **Base de Dados**\n",
        ">Entrada da base de dados por intermédio da seleção de um arquivo csv. A abertura é realizada através de uma janela externa, a qual gera uma tabela com os dados. A primeira linha da tabela, geralmente, será composta pelos rótulos das colunas.\n",
        "\n",
        ">* O teste do presente notebook foi realizado através da base de dados sobre espécies de flores do gênero Iris {3}. A base de dados contém 150 amostras, sendo cada uma formada por 5 atributos (4 características e 1 classe).\n",
        "---\n",
        "{3} Fisher, R. A. Iris Species Dataset. 1936. Disponível em: https://www.kaggle.com/uciml/iris. Acesso em: 4 jan 2021."
      ]
    },
    {
      "cell_type": "code",
      "metadata": {
        "colab": {
          "resources": {
            "http://localhost:8080/nbextensions/google.colab/files.js": {
              "data": "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",
              "ok": true,
              "headers": [
                [
                  "content-type",
                  "application/javascript"
                ]
              ],
              "status": 200,
              "status_text": ""
            }
          },
          "base_uri": "https://localhost:8080/",
          "height": 73
        },
        "id": "RbcABTH8Qmml",
        "outputId": "9bd46683-f938-4a2d-c0f4-7e7be98a74b8"
      },
      "source": [
        "# [1] Entrada da Base de Dados\n",
        "from google.colab import files\n",
        "import pandas as pd\n",
        "import io\n",
        "uploaded = files.upload() # uploaded é um dicionário, sendo a chave o nome do arquivo\n",
        "\n",
        "#list(uploaded.keys())[0] foi a forma que encontrei de não entrar com o nome do arquivo no código\n",
        "table = pd.read_csv(io.BytesIO(uploaded[list(uploaded.keys())[0]]))"
      ],
      "execution_count": null,
      "outputs": [
        {
          "output_type": "display_data",
          "data": {
            "text/html": [
              "\n",
              "     <input type=\"file\" id=\"files-3658699a-2192-4fbc-a385-a98ae8733a24\" name=\"files[]\" multiple disabled\n",
              "        style=\"border:none\" />\n",
              "     <output id=\"result-3658699a-2192-4fbc-a385-a98ae8733a24\">\n",
              "      Upload widget is only available when the cell has been executed in the\n",
              "      current browser session. Please rerun this cell to enable.\n",
              "      </output>\n",
              "      <script src=\"/nbextensions/google.colab/files.js\"></script> "
            ],
            "text/plain": [
              "<IPython.core.display.HTML object>"
            ]
          },
          "metadata": {}
        },
        {
          "output_type": "stream",
          "name": "stdout",
          "text": [
            "Saving heart.csv to heart.csv\n"
          ]
        }
      ]
    },
    {
      "cell_type": "markdown",
      "metadata": {
        "id": "NLHp5kYDey-H"
      },
      "source": [
        "# **Preparação dos Conjuntos**\n",
        ">Os trechos de código a seguir servem para separar os conjuntos de treinamento e teste, devendo ser selecionada um das versões.\n",
        "* [2.1] separa, aleatoriamente, 75 % dos dados para treinamento (train) e 25 % para teste (test).\n",
        "* [2.2] irá, para cada classe, colocar 75 % dos dados no treinamento (train) e os 25 % restantes no conjunto de teste (test)"
      ]
    },
    {
      "cell_type": "code",
      "metadata": {
        "id": "urrW4UpnexdC"
      },
      "source": [
        "#[2.1] Formação dos conjuntos de treinamento e teste\n",
        "import pandas as pd\n",
        "import numpy as np\n",
        "from sklearn.model_selection import train_test_split\n",
        "from sklearn.preprocessing import StandardScaler\n",
        "\n",
        "data = np.array(table)\n",
        "\n",
        "#data = data[:, 1:] # remover essa linha caso a primeira coluna corresponda a dados relevantes REMOVIDA!\n",
        "\n",
        "# Indentificando os rótulos das classes\n",
        "labels = []\n",
        "for line in range(data.shape[0]):\n",
        "  if(labels.count(data[line, data.shape[1]-1])==0):\n",
        "    labels.append(data[line, data.shape[1]-1])\n",
        "\n",
        "scaler = StandardScaler()\n",
        "\n",
        "y = np.array(pd.get_dummies(data[:, data.shape[1]-1])).astype(np.float32)\n",
        "x = (data[:, :(data.shape[1]-1)]).astype(np.float32)\n",
        "\n",
        "scaler.fit(x) # ajuste do scaler para pré-processamento\n",
        "\n",
        "# Gerando os conjuntos de treinamento e teste (validação)\n",
        "train_x, test_x, train_y, test_y = train_test_split(x,y, test_size=0.25) # 0.25 dos dados no conjunto de teste\n",
        "\n",
        "print('Conjuntos de treinamento e teste separados!')"
      ],
      "execution_count": null,
      "outputs": []
    },
    {
      "cell_type": "code",
      "metadata": {
        "id": "57BQswWqjoH0",
        "colab": {
          "base_uri": "https://localhost:8080/"
        },
        "outputId": "91f234f1-c12a-455b-802e-e47c25bb6075"
      },
      "source": [
        "#[2.2] Formação dos conjuntos de treinamento e teste\n",
        "import pandas as pd\n",
        "import numpy as np\n",
        "from sklearn.preprocessing import StandardScaler\n",
        "\n",
        "data = np.array(table)\n",
        "\n",
        "#data = data[:, 1:] # remover essa linha caso a primeira coluna corresponda a dados relevantes\n",
        "\n",
        "scaler = StandardScaler()\n",
        "scaler.fit(data[:, :(data.shape[1]-1)]) # ajuste do scaler para pré-processamento\n",
        "\n",
        "# Indentificando os rótulos das classes\n",
        "labels = []\n",
        "for line in range(data.shape[0]):\n",
        "  if(labels.count(data[line, data.shape[1]-1])==0):\n",
        "    labels.append(data[line, data.shape[1]-1])\n",
        "\n",
        "# Contando o número de dados (amostras) em cada classe\n",
        "num_labels = [] # lista com número de amostras por classe\n",
        "ctrl = [] # lista usada na separação entre treinamento e teste\n",
        "for label in labels:\n",
        "  count = 0\n",
        "  for line in range(data.shape[0]):\n",
        "    if(label == data[line, data.shape[1]-1]):\n",
        "      count = count + 1\n",
        "  num_labels.append(count)\n",
        "  ctrl.append(0)\n",
        "\n",
        "# num_labels passa a conter o número de elementos por classe no conjunto de treinamento\n",
        "train_p = 0.75 # percentual dos dados na lista de treinamento\n",
        "for i in range(len(num_labels)):\n",
        "  num_labels[i] = round(num_labels[i] * train_p)\n",
        "\n",
        "train = int(0) # atribuir 0 seria suficiente, mas resolvi garantir\n",
        "test = int(0)\n",
        "\n",
        "# separação dos conjuntos de treinamento (train) e teste (test)\n",
        "for line in range(data.shape[0]):\n",
        "  for label in labels:\n",
        "    if(label == data[line, data.shape[1]-1]):      \n",
        "      aux = labels.index(label) \n",
        "      \n",
        "      if (ctrl[aux] < num_labels[aux]):\n",
        "        if (type(train) is int):\n",
        "          train = data[line, :]\n",
        "        else:\n",
        "          train = np.row_stack((train, data[line, :]))      \n",
        "      else:\n",
        "        if (type(test) is int):\n",
        "          test = data[line, :]\n",
        "        else:\n",
        "          test = np.row_stack((test, data[line, :]))\n",
        "      ctrl[aux] = ctrl[aux]+1\n",
        "      break\n",
        "\n",
        "train_x = (train[:, :train.shape[1]-1]).astype(np.float32) # entradas de train\n",
        "train_y = np.array(pd.get_dummies(train[:, train.shape[1]-1])).astype(np.float32)  # saídas (classes) de train\n",
        "test_x = (test[:, :test.shape[1]-1]).astype(np.float32) # entradas de test\n",
        "test_y = np.array(pd.get_dummies(test[:, test.shape[1]-1])).astype(np.float32) # saídas (classes) de test\n",
        "\n",
        "print('Conjuntos de treinamento e teste separados!')"
      ],
      "execution_count": null,
      "outputs": [
        {
          "output_type": "stream",
          "name": "stdout",
          "text": [
            "Conjuntos de treinamento e teste separados!\n"
          ]
        }
      ]
    },
    {
      "cell_type": "markdown",
      "metadata": {
        "id": "DRSbXeIlk55v"
      },
      "source": [
        "# **Multilayer Perceptron:** topologia e treinamento\n",
        ">A topologia é a estrutura da rede neural artificial. A topologia de uma rede MLP pode ser organizada em: camada de entrada, camadas ocultas e camada de saída. O número de entradas e de neurônios na saída depende do problema, entretanto, o número de camadas ocultas e de neurônios em cada uma dessas camadas é uma questão de projeto. Assim, podemos testar diferentes topologias, variando o número de camadas ocultas e de neurônios nas mesmas, para um mesmo problema.\n",
        "\n",
        ">No código a seguir, o número de camadas ocultas, bem como o número de neurônios em cada uma dessas camadas, pode ser informado via \"terminal\". Além disso, o número máximo de épocas de treinamento também será informado de forma similar. Entretanto, os demais parâmetros necessários ao treinamento foram fixados e devem ser alterados diretamente no código.\n",
        "*   Caso seja necessário realizar alterações, veja a documentação do MLPClassifier em {4}.\n",
        "\n",
        "---\n",
        "{4} SCIKIT-LEARN. sklearn.neural_network.MLPClassifier. Disponível em: https://scikit-learn.org/stable/modules/generated/sklearn.neural_network.MLPClassifier.html. Acesso em: 2 jan 2021\n",
        "\n",
        "\n"
      ]
    },
    {
      "cell_type": "markdown",
      "metadata": {
        "id": "32ToCDn2Wt4g"
      },
      "source": [
        "Sugestão do ponto de partida descritas na aula 35.\n",
        "Total de neuronios nas camadas ocultas = >= (Numero de entradas + numero saidas)/2 (O professor prefere usar uma camada oculta)\n",
        "Total de neuronios nas camadas ocultas = <= (2 * numero saidas)\n",
        "Total de neuronios nas camadas ocultas = numero saidas (o professor prefere esse)\n",
        "<br> máximo de epocas: numero maximo de iterações do algoritmo de treinamento.não leva em consideração o estado do processo."
      ]
    },
    {
      "cell_type": "code",
      "metadata": {
        "colab": {
          "base_uri": "https://localhost:8080/",
          "height": 544
        },
        "id": "X9UuzqT-lbM7",
        "outputId": "17ea9629-36ef-4fed-f985-18618cda63c9"
      },
      "source": [
        "3# [3] MLP: topologia e treinamento\n",
        "import matplotlib.pyplot as plt\n",
        "from sklearn.neural_network import MLPClassifier\n",
        "\n",
        "print('Ajustando a topologia...')\n",
        "num_x = train_x.shape[1]\n",
        "num_y = train_y.shape[1]\n",
        "print('Entradas = %i\\nSaídas = %i' % (num_x, num_y))\n",
        "\n",
        "while(True):\n",
        "  num_hidden_layers = int(input('Número de camadas ocultas: '))\n",
        "  if(num_hidden_layers>0):\n",
        "    break\n",
        "\n",
        "if(num_hidden_layers==1):\n",
        "  while(True):\n",
        "    topology = [int(input('Neurônios na camada oculta: '))]\n",
        "    if(topology[0]>0):\n",
        "      break\n",
        "else:\n",
        "  topology = []\n",
        "  for i in range(num_hidden_layers):\n",
        "    while(True):\n",
        "      num = int(input('Neurônios na %iª camada oculta: ' % (i+1)))\n",
        "      if(num>0):\n",
        "        topology.append(num)\n",
        "        break\n",
        "\n",
        "print('\\n\\nTreinamento...')\n",
        "\n",
        "epochs = int(input('Número de épocas de treinamento: '))\n",
        "\n",
        "# inicialização do modelo\n",
        "Model = MLPClassifier(hidden_layer_sizes=tuple(topology), max_iter=epochs, alpha=0.1,\n",
        "                     solver='sgd', learning_rate_init=0.01, momentum=0.9, learning_rate='adaptive', verbose=0,  random_state=121) # verbose=1 exibe o log de treinamento\n",
        "\n",
        "topology.insert(0, num_x)\n",
        "topology.append(num_y)\n",
        "\n",
        "# pré-processamento\n",
        "p_train_x = scaler.transform(train_x)\n",
        "\n",
        "# treinando o modelo\n",
        "model = Model.fit(p_train_x, train_y)\n",
        "\n",
        "print(model)\n",
        "print('Topologia da MLP =', topology)\n",
        "\n",
        "# exibindo a curva de perda logarítmica\n",
        "plt.plot(model.loss_curve_)\n",
        "plt.title('Histórico de Perda Logarítmica')\n",
        "plt.xlabel('épocas')\n",
        "plt.ylabel('perda')"
      ],
      "execution_count": null,
      "outputs": [
        {
          "output_type": "stream",
          "name": "stdout",
          "text": [
            "Ajustando a topologia...\n",
            "Entradas = 13\n",
            "Saídas = 2\n",
            "Número de camadas ocultas: 1\n",
            "Neurônios na camada oculta: 20\n",
            "\n",
            "\n",
            "Treinamento...\n",
            "Número de épocas de treinamento: 3000\n",
            "MLPClassifier(alpha=0.1, hidden_layer_sizes=(20,), learning_rate='adaptive',\n",
            "              learning_rate_init=0.01, max_iter=3000, random_state=121,\n",
            "              solver='sgd', verbose=0)\n",
            "Topologia da MLP = [13, 20, 2]\n"
          ]
        },
        {
          "output_type": "execute_result",
          "data": {
            "text/plain": [
              "Text(0, 0.5, 'perda')"
            ]
          },
          "metadata": {},
          "execution_count": 10
        },
        {
          "output_type": "display_data",
          "data": {
            "image/png": "[encoded data removed]",
            "text/plain": [
              "<Figure size 432x288 with 1 Axes>"
            ]
          },
          "metadata": {}
        }
      ]
    },
    {
      "cell_type": "markdown",
      "metadata": {
        "id": "PI0U4Pwhz5X2"
      },
      "source": [
        "# **Análise:** Conjunto de Treinamento\n",
        ">O código a seguir serve para exibir o relatório de classificação, acurácia e matriz de confusão para o conjunto de treinamento."
      ]
    },
    {
      "cell_type": "code",
      "metadata": {
        "colab": {
          "base_uri": "https://localhost:8080/",
          "height": 476
        },
        "id": "NQQZJuww0AKY",
        "outputId": "a784d20e-c6c8-46af-b405-df18e2d0b550"
      },
      "source": [
        "# [4] Análise do conjunto de treinamento\n",
        "import matplotlib.pyplot as plt\n",
        "import seaborn as sns; sns.set()\n",
        "from sklearn.metrics import mean_squared_error \n",
        "from sklearn.metrics import classification_report\n",
        "from sklearn.metrics import accuracy_score\n",
        "from sklearn.metrics import confusion_matrix\n",
        "\n",
        "train_est_y = model.predict(p_train_x)\n",
        "\n",
        "# matriz de confusão\n",
        "mat = confusion_matrix(train_y.argmax(axis=1), train_est_y.argmax(axis=1))\n",
        "sns.heatmap(mat.T, square=True, annot=True, fmt='d', cbar=False, xticklabels=labels, yticklabels=labels)\n",
        "plt.xlabel('Real')\n",
        "plt.ylabel('Estimado');\n",
        "\n",
        "print(classification_report(train_y, train_est_y)) # mostra relatório\n",
        "print('A acurácia é ',accuracy_score(train_est_y, train_y)) # exibe acurácia\n",
        "\n",
        "\n"
      ],
      "execution_count": null,
      "outputs": [
        {
          "output_type": "stream",
          "name": "stdout",
          "text": [
            "              precision    recall  f1-score   support\n",
            "\n",
            "           0       1.00      0.99      1.00       104\n",
            "           1       0.99      1.00      1.00       124\n",
            "\n",
            "   micro avg       1.00      1.00      1.00       228\n",
            "   macro avg       1.00      1.00      1.00       228\n",
            "weighted avg       1.00      1.00      1.00       228\n",
            " samples avg       1.00      1.00      1.00       228\n",
            "\n",
            "A acurácia é  0.9956140350877193\n"
          ]
        },
        {
          "output_type": "display_data",
          "data": {
            "image/png": "[encoded data removed]",
            "text/plain": [
              "<Figure size 432x288 with 1 Axes>"
            ]
          },
          "metadata": {}
        }
      ]
    },
    {
      "cell_type": "markdown",
      "metadata": {
        "id": "JniTFPYK3Zw0"
      },
      "source": [
        "# **Análise:** Conjunto de Teste\n",
        ">O código a seguir serve para exibir o relatório de classificação, acurácia e matriz de confusão para o conjunto de teste."
      ]
    },
    {
      "cell_type": "code",
      "metadata": {
        "colab": {
          "base_uri": "https://localhost:8080/",
          "height": 476
        },
        "id": "gJ4BrFsT3x5u",
        "outputId": "8e1256a9-db51-440a-fe14-46b09c1ced3e"
      },
      "source": [
        "# [5] Análise do conjunto de teste\n",
        "import matplotlib.pyplot as plt\n",
        "import seaborn as sns; sns.set()\n",
        "from sklearn.metrics import mean_squared_error \n",
        "from sklearn.metrics import classification_report\n",
        "from sklearn.metrics import accuracy_score\n",
        "from sklearn.metrics import confusion_matrix\n",
        "\n",
        "# pré-processamento\n",
        "p_test_x = scaler.transform(test_x)\n",
        "\n",
        "test_est_y = model.predict(p_test_x)\n",
        "\n",
        "# matriz de confusão\n",
        "mat = confusion_matrix(test_y.argmax(axis=1), test_est_y.argmax(axis=1))\n",
        "sns.heatmap(mat.T, square=True, annot=True, fmt='d', cbar=False, xticklabels=labels, yticklabels=labels)\n",
        "plt.xlabel('Real')\n",
        "plt.ylabel('Estimado');\n",
        "\n",
        "print(classification_report(test_y, test_est_y)) # mostra relatório\n",
        "print('A acurácia é ',accuracy_score(test_est_y, test_y)) # exibe acurácia\n"
      ],
      "execution_count": null,
      "outputs": [
        {
          "output_type": "stream",
          "name": "stdout",
          "text": [
            "              precision    recall  f1-score   support\n",
            "\n",
            "           0       0.85      0.65      0.73        34\n",
            "           1       0.75      0.93      0.83        41\n",
            "\n",
            "   micro avg       0.78      0.80      0.79        75\n",
            "   macro avg       0.80      0.79      0.78        75\n",
            "weighted avg       0.79      0.80      0.78        75\n",
            " samples avg       0.79      0.80      0.79        75\n",
            "\n",
            "A acurácia é  0.7733333333333333\n"
          ]
        },
        {
          "output_type": "display_data",
          "data": {
            "image/png": "[encoded data removed]",
            "text/plain": [
              "<Figure size 432x288 with 1 Axes>"
            ]
          },
          "metadata": {}
        }
      ]
    }
  ]
}