{
  "nbformat": 4,
  "nbformat_minor": 0,
  "metadata": {
    "colab": {
      "name": "Grupo 1 -naive-bayes.ipynb",
      "provenance": [],
      "collapsed_sections": [],
      "include_colab_link": true
    },
    "kernelspec": {
      "name": "python3",
      "display_name": "Python 3"
    }
  },
  "cells": [
    {
      "cell_type": "markdown",
      "metadata": {
        "id": "view-in-github",
        "colab_type": "text"
      },
      "source": [
        "<a href=\"https://colab.research.google.com/github/LorenaMendesB/Resumo-Expandido-Aprendizagem-de-M-quina/blob/main/Grupo_1_naive_bayes.ipynb\" target=\"_parent\"><img src=\"https://colab.research.google.com/assets/colab-badge.svg\" alt=\"Open In Colab\"/></a>"
      ]
    },
    {
      "cell_type": "markdown",
      "metadata": {
        "id": "ci94qbnLw6vK"
      },
      "source": [
        "## <p align = center>  **Aprendizagem de Máquina - Inteligência Artificial** <p  align = left>  \n",
        "## <p align = center>  **MACHINE LEARNING APLICADA NA ANÁLISE DE POSSÍVEIS CASOS DE ATAQUE CARDÍACO** <p  align = left>  \n",
        "\n",
        "<p align = center>  Alunos </p>\n",
        "\n",
        "---\n",
        "\n",
        " <p> <b>Nome:</b> Gustavo da Silva Dias. </p>\n",
        "<p> <b>Nome:</b> João Paulo da Silva Barros. </p>\n",
        "<p> <b>Nome:</b> Lorena Mendes Barbosa. </p>\n",
        "<p> <b>Nome:</b> Osvaldo Bispo de Andrade Neto. </p>\n"
      ]
    },
    {
      "cell_type": "markdown",
      "metadata": {
        "id": "Uqws9eSGN9wD"
      },
      "source": [
        "# **Naive Bayes**\n",
        "> Nayve Bayes, ou Bayes Ingênuo, é um classificador probabilístico baseado no Teorema de Bayes. Esse classificador é chamado de ingênuo devido a desconsiderar a dependência entre características das amostras. O Bayes Ingênuo está entre os mais simples modelos de redes bayesianas.\n",
        "\n",
        "> Esse notebook foi escrito por Alison Zille Lopes, entretanto grande parte foi baseada em {1}, logo, emprega a biblioteca de aprendizagem de máquina scikit learn {2}.\n",
        "---\n",
        "{1} Vanderplas, J. In Depth: Naive Bayes Classification. Disponível em: https://colab.research.google.com/github/jakevdp/PythonDataScienceHandbook/blob/master/notebooks/05.05-Naive-Bayes.ipynb#scrollTo=c8Br2IVH9je0. Acesso em: 2 jan 2021.\n",
        "\n",
        "{2} SCIKIT-LEARN. scikit-learn: Machine Learning in Python. Disponível em: https://scikit-learn.org/stable/index.html. Acesso em: 2 jan 2021."
      ]
    },
    {
      "cell_type": "markdown",
      "metadata": {
        "id": "iUsDi2u42hoQ"
      },
      "source": [
        "# **Base de Dados**\n",
        ">Entrada da base de dados por intermédio da seleção de um arquivo csv. A abertura é realizada através de uma janela externa, a qual gera uma tabela com os dados. A primeira linha da tabela, geralmente, será composta pelos rótulos das colunas.\n",
        "\n",
        ">* O teste do presente notebook foi realizado através da base de dados sobre espécies de flores do gênero Iris {3}. A base de dados contém 150 amostras, sendo cada uma formada por 5 atributos (4 características e 1 classe).\n",
        "---\n",
        "{3} Fisher, R. A. Iris Species Dataset. 1936. Disponível em: https://www.kaggle.com/uciml/iris. Acesso em: 4 jan 2021."
      ]
    },
    {
      "cell_type": "code",
      "metadata": {
        "colab": {
          "resources": {
            "http://localhost:8080/nbextensions/google.colab/files.js": {
              "data": "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",
              "ok": true,
              "headers": [
                [
                  "content-type",
                  "application/javascript"
                ]
              ],
              "status": 200,
              "status_text": ""
            }
          },
          "base_uri": "https://localhost:8080/",
          "height": 73
        },
        "id": "O15LKIFylGcy",
        "outputId": "96017825-4f8a-4171-8fb5-b66cf09e34aa"
      },
      "source": [
        "# [1] Entrada da Base de Dados\n",
        "from google.colab import files\n",
        "import pandas as pd\n",
        "import io\n",
        "uploaded = files.upload() # uploaded é um dicionário, sendo a chave o nome do arquivo\n",
        "\n",
        "#list(uploaded.keys())[0] foi a forma que encontrei de não entrar com o nome do arquivo no código\n",
        "table = pd.read_csv(io.BytesIO(uploaded[list(uploaded.keys())[0]]))"
      ],
      "execution_count": null,
      "outputs": [
        {
          "output_type": "display_data",
          "data": {
            "text/html": [
              "\n",
              "     <input type=\"file\" id=\"files-36487e65-e633-4a9a-957a-cb1534c957e4\" name=\"files[]\" multiple disabled\n",
              "        style=\"border:none\" />\n",
              "     <output id=\"result-36487e65-e633-4a9a-957a-cb1534c957e4\">\n",
              "      Upload widget is only available when the cell has been executed in the\n",
              "      current browser session. Please rerun this cell to enable.\n",
              "      </output>\n",
              "      <script src=\"/nbextensions/google.colab/files.js\"></script> "
            ],
            "text/plain": [
              "<IPython.core.display.HTML object>"
            ]
          },
          "metadata": {}
        },
        {
          "output_type": "stream",
          "name": "stdout",
          "text": [
            "Saving heart.csv to heart (1).csv\n"
          ]
        }
      ]
    },
    {
      "cell_type": "markdown",
      "metadata": {
        "id": "n3Otcw_E4LAZ"
      },
      "source": [
        "# **Preparação dos Conjuntos**\n",
        ">Os trechos de código a seguir servem para separar os conjuntos de treinamento e teste, devendo ser selecionada um das versões.\n",
        "* [2.1] separa, aleatoriamente, 75 % dos dados para treinamento (train) e 25 % para teste (test).\n",
        "* [2.2] irá, para cada classe, colocar 75 % dos dados no treinamento (train) e os 25 % restantes no conjunto de teste (test)"
      ]
    },
    {
      "cell_type": "code",
      "metadata": {
        "id": "yZNSDSzu_Sob",
        "colab": {
          "base_uri": "https://localhost:8080/"
        },
        "outputId": "c4b1f991-75f6-418d-9fcf-ab86fe641ae5"
      },
      "source": [
        "#[2.1] Formação dos conjuntos de treinamento e teste\n",
        "import pandas as pd\n",
        "import numpy as np\n",
        "from sklearn.model_selection import train_test_split\n",
        "\n",
        "data = np.array(table) \n",
        "\n",
        "#data = data[:, 1:]  remover essa linha caso a primeira coluna corresponda a dados relevantes\n",
        "\n",
        "# Indentificando os rótulos das classes\n",
        "labels = []\n",
        "for line in range(data.shape[0]):\n",
        "  if(labels.count(data[line, data.shape[1]-1])==0):\n",
        "    labels.append(data[line, data.shape[1]-1])\n",
        "\n",
        "y = np.array(data[:, data.shape[1]-1])\n",
        "x = (data[:, :(data.shape[1]-1)]).astype(np.float32)\n",
        "\n",
        "# Gerando os conjuntos de treinamento e teste (validação)\n",
        "train_x, test_x, train_y, test_y = train_test_split(x,y, test_size=0.25) # 0.25 dos dados no conjunto de teste\n",
        "\n",
        "print('Conjuntos de treinamento e teste separados!')"
      ],
      "execution_count": null,
      "outputs": [
        {
          "output_type": "stream",
          "name": "stdout",
          "text": [
            "Conjuntos de treinamento e teste separados!\n"
          ]
        }
      ]
    },
    {
      "cell_type": "code",
      "metadata": {
        "id": "0zdHsRu-S4A6",
        "colab": {
          "base_uri": "https://localhost:8080/"
        },
        "outputId": "dd54be6c-981c-4293-a582-eb1251d5b5cf"
      },
      "source": [
        "#[2.2] Formação dos conjuntos de treinamento e teste\n",
        "import pandas as pd\n",
        "import numpy as np\n",
        "\n",
        "data = np.array(table)\n",
        "\n",
        "#data = data[:, 1:]  remover essa linha caso a primeira coluna corresponda a dados relevantes\n",
        "\n",
        "# Indentificando os rótulos das classes\n",
        "labels = []\n",
        "for line in range(data.shape[0]):\n",
        "  if(labels.count(data[line, data.shape[1]-1])==0):\n",
        "    labels.append(data[line, data.shape[1]-1])\n",
        "\n",
        "# Contando o número de dados (amostras) em cada classe\n",
        "num_labels = [] # lista com número de amostras por classe\n",
        "ctrl = [] # lista usada na separação entre treinamento e teste\n",
        "for label in labels:\n",
        "  count = 0\n",
        "  for line in range(data.shape[0]):\n",
        "    if(label == data[line, data.shape[1]-1]):\n",
        "      count = count + 1\n",
        "  num_labels.append(count)\n",
        "  ctrl.append(0)\n",
        "\n",
        "# num_labels passa a conter o número de elementos por classe no conjunto de treinamento\n",
        "train_p = 0.75 # percentual dos dados na lista de treinamento\n",
        "for i in range(len(num_labels)):\n",
        "  num_labels[i] = round(num_labels[i] * train_p)\n",
        "\n",
        "train = int(0) # atribuir 0 seria suficiente, mas resolvi garantir\n",
        "test = int(0)\n",
        "\n",
        "# separação dos conjuntos de treinamento (train) e teste (test)\n",
        "for line in range(data.shape[0]):\n",
        "  for label in labels:\n",
        "    if(label == data[line, data.shape[1]-1]):      \n",
        "      aux = labels.index(label) \n",
        "      \n",
        "      if (ctrl[aux] < num_labels[aux]):\n",
        "        if (type(train) is int):\n",
        "          train = data[line, :]\n",
        "        else:\n",
        "          train = np.row_stack((train, data[line, :]))      \n",
        "      else:\n",
        "        if (type(test) is int):\n",
        "          test = data[line, :]\n",
        "        else:\n",
        "          test = np.row_stack((test, data[line, :]))\n",
        "      ctrl[aux] = ctrl[aux]+1\n",
        "      break\n",
        "\n",
        "train_x = (train[:, :train.shape[1]-1]).astype(np.float32) # entradas de train\n",
        "train_y = train[:, train.shape[1]-1]  # saídas (classes) de train\n",
        "test_x = (test[:, :test.shape[1]-1]).astype(np.float32) # entradas de test\n",
        "test_y = test[:, test.shape[1]-1] # saídas (classes) de test\n",
        "\n",
        "print('Conjuntos de treinamento e teste separados!')"
      ],
      "execution_count": null,
      "outputs": [
        {
          "output_type": "stream",
          "name": "stdout",
          "text": [
            "Conjuntos de treinamento e teste separados!\n"
          ]
        }
      ]
    },
    {
      "cell_type": "markdown",
      "metadata": {
        "id": "8tJpfpGd7S3r"
      },
      "source": [
        "# **Naive Bayes:** modelo gerador e treinamento\n",
        "> Na classificação bayesiana, estamos interessados em encontrar a probabilidade de um rótulo ($R$ - classe) dadas algumas características observadas, que podemos escrever como $P(R~|~{\\rm características})$. O teorema de Bayes nos diz como expressar isso em termos de quantidades que podemos calcular mais diretamente:\n",
        "\n",
        "$$\n",
        "P(R~|~{\\rm característica}) = \\frac{P({\\rm características}~|~R)P(R)}{P({\\rm características})}\n",
        "$$\n",
        "\n",
        "> Assim, é preciso um modelo pelo qual possamos calcular $P({\\rm características}~|~R_i)$ para cada rótulo. Esse modelo é chamado de *modelo gerador* porque especifica o processo que gera os dados.\n",
        "Especificar esse modelo gerador para cada rótulo é a parte principal do treinamento do Naive Bayes.\n",
        "\n",
        "> O modelo gerador mais fácil de entender é o gaussiano, no qual os dados de cada rótulo seguem uma distribuição gaussiana.\n",
        "* O modelo gerador no código abaixo é gaussiano.\n",
        "\n",
        "\n"
      ]
    },
    {
      "cell_type": "code",
      "metadata": {
        "id": "5tf7xwHq7eSm",
        "colab": {
          "base_uri": "https://localhost:8080/"
        },
        "outputId": "7b02df0f-00c1-4fdd-f902-a072d1549eb4"
      },
      "source": [
        "# [3] Ajuste do modelo para classes com distribuição gaussiana\n",
        "from sklearn.naive_bayes import GaussianNB\n",
        "model = GaussianNB()\n",
        "\n",
        "model.fit(train_x, train_y)\n",
        "print('Modelo Ajustado!')"
      ],
      "execution_count": null,
      "outputs": [
        {
          "output_type": "stream",
          "name": "stdout",
          "text": [
            "Modelo Ajustado!\n"
          ]
        }
      ]
    },
    {
      "cell_type": "markdown",
      "metadata": {
        "id": "AChKa_707wDr"
      },
      "source": [
        "# **Análise:** Conjunto de Treinamento\n",
        "O código a seguir serve para exibir uma matriz de confusão, permitindo visualizar erros de classificação do modelo frente as classes reais.\n",
        "> A matriz de confusão é gerada para o conjunto de treinamento"
      ]
    },
    {
      "cell_type": "code",
      "metadata": {
        "id": "9Chx9wty8CKS",
        "colab": {
          "base_uri": "https://localhost:8080/",
          "height": 459
        },
        "outputId": "1ed9a333-73b8-4c76-9d0c-0cf4a199988b"
      },
      "source": [
        "# [4] Matriz de confusão para o conjunto de treinamento\n",
        "%matplotlib inline\n",
        "import matplotlib.pyplot as plt\n",
        "import seaborn as sns; sns.set()\n",
        "from sklearn.metrics import confusion_matrix\n",
        "from sklearn.metrics import classification_report\n",
        "from sklearn.metrics import accuracy_score\n",
        "\n",
        "train_est_y = model.predict(train_x)\n",
        "\n",
        "mat = confusion_matrix(train_y, train_est_y)\n",
        "sns.heatmap(mat.T, square=True, annot=True, fmt='d', cbar=False, xticklabels=labels, yticklabels=labels)\n",
        "plt.xlabel('Real')\n",
        "plt.ylabel('Estimado');\n",
        "\n",
        "print(classification_report(train_y, train_est_y)) # mostra relatório\n",
        "print('A acurácia é ',accuracy_score(train_est_y, train_y)) # exibe acurácia"
      ],
      "execution_count": null,
      "outputs": [
        {
          "output_type": "stream",
          "name": "stdout",
          "text": [
            "              precision    recall  f1-score   support\n",
            "\n",
            "         0.0       0.89      0.83      0.86       104\n",
            "         1.0       0.86      0.91      0.89       124\n",
            "\n",
            "    accuracy                           0.87       228\n",
            "   macro avg       0.87      0.87      0.87       228\n",
            "weighted avg       0.87      0.87      0.87       228\n",
            "\n",
            "A acurácia é  0.8728070175438597\n"
          ]
        },
        {
          "output_type": "display_data",
          "data": {
            "image/png": "[encoded data removed]",
            "text/plain": [
              "<Figure size 432x288 with 1 Axes>"
            ]
          },
          "metadata": {}
        }
      ]
    },
    {
      "cell_type": "markdown",
      "metadata": {
        "id": "OTXALlyx8nmU"
      },
      "source": [
        "# **Análise:** Conjunto de Teste\n",
        "O código a seguir serve para exibir uma matriz de confusão, permitindo visualizar erros de classificação do modelo frente as classes reais.\n",
        "> A matriz de confusão é gerada para o conjunto de teste"
      ]
    },
    {
      "cell_type": "code",
      "metadata": {
        "id": "vBV0vS2b8vW3",
        "colab": {
          "base_uri": "https://localhost:8080/",
          "height": 459
        },
        "outputId": "9b7a9117-2b27-4576-d368-f2fb5024d366"
      },
      "source": [
        "# [5] Matriz de confusão para o conjunto de teste\n",
        "%matplotlib inline\n",
        "import matplotlib.pyplot as plt\n",
        "import seaborn as sns; sns.set()\n",
        "from sklearn.metrics import confusion_matrix\n",
        "from sklearn.metrics import classification_report\n",
        "from sklearn.metrics import accuracy_score\n",
        "\n",
        "test_est_y = model.predict(test_x)\n",
        "\n",
        "mat = confusion_matrix(test_y, test_est_y)\n",
        "sns.heatmap(mat.T, square=True, annot=True, fmt='d', cbar=False, xticklabels=labels, yticklabels=labels)\n",
        "plt.xlabel('Real')\n",
        "plt.ylabel('Estimado');\n",
        "\n",
        "print(classification_report(test_y, test_est_y)) # mostra relatório\n",
        "print('A acurácia é ',accuracy_score(test_est_y, test_y)) # exibe acurácia"
      ],
      "execution_count": null,
      "outputs": [
        {
          "output_type": "stream",
          "name": "stdout",
          "text": [
            "              precision    recall  f1-score   support\n",
            "\n",
            "         0.0       0.75      0.62      0.68        34\n",
            "         1.0       0.72      0.83      0.77        41\n",
            "\n",
            "    accuracy                           0.73        75\n",
            "   macro avg       0.74      0.72      0.73        75\n",
            "weighted avg       0.74      0.73      0.73        75\n",
            "\n",
            "A acurácia é  0.7333333333333333\n"
          ]
        },
        {
          "output_type": "display_data",
          "data": {
            "image/png": "[encoded data removed]",
            "text/plain": [
              "<Figure size 432x288 with 1 Axes>"
            ]
          },
          "metadata": {}
        }
      ]
    }
  ]
}
